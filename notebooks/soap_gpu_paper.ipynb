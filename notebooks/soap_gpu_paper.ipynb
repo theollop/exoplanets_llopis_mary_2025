{
 "cells": [
  {
   "cell_type": "code",
   "execution_count": 35,
   "id": "f8ffa6bc",
   "metadata": {},
   "outputs": [],
   "source": [
    "import numpy as np\n",
    "import h5py\n",
    "import pandas as pd\n",
    "import matplotlib.pyplot as plt"
   ]
  },
  {
   "cell_type": "code",
   "execution_count": 41,
   "id": "d0851059",
   "metadata": {},
   "outputs": [
    {
     "name": "stdout",
     "output_type": "stream",
     "text": [
      "NpzFile '/home/tliopis/Codes/exoplanets_llopis_mary_2025/data/soap_gpu_paper/dataset_1000specs_5000_5050.npz' with keys: wavegrid, template, cube, metadata\n"
     ]
    }
   ],
   "source": [
    "dset = np.load(\n",
    "    \"/home/tliopis/Codes/exoplanets_llopis_mary_2025/data/soap_gpu_paper/dataset_1000specs_5000_5050.npz\"\n",
    ")\n",
    "\n",
    "print(dset)\n",
    "wavegrid = dset[\"wavegrid\"]\n",
    "cube = dset[\"cube\"]\n",
    "template = dset[\"template\"]\n",
    "\n",
    "plt.figure(figsize=(10, 6))\n",
    "plt.plot(wavegrid, template, label=\"Template Spectrum\", color=\"blue\")\n",
    "plt.plot(wavegrid, cube[10], color=\"black\", alpha=0.5)\n",
    "plt.title(\"Spectra from the Dataset\")\n",
    "plt.xlabel(\"Wavelength (nm)\")\n",
    "plt.ylabel(\"Flux\")\n",
    "plt.legend()\n",
    "plt.grid()\n",
    "plt.show()\n",
    "\n",
    "plt.figure(figsize=(16, 6))\n",
    "plt.plot(wavegrid, cube[10], label=\"Spectrum 10\", color=\"black\")\n",
    "plt.plot(wavegrid, (cube[10] - template)*20, label=\"Activity\", color=\"red\")\n",
    "plt.title(\"Activity Spectrum (Difference from Template)\")\n",
    "plt.xlabel(\"Wavelength (nm)\")\n",
    "plt.ylabel(\"Flux Difference\")\n",
    "plt.legend()\n",
    "plt.grid()\n",
    "plt.show()"
   ]
  }
 ],
 "metadata": {
  "kernelspec": {
   "display_name": "venv",
   "language": "python",
   "name": "python3"
  },
  "language_info": {
   "codemirror_mode": {
    "name": "ipython",
    "version": 3
   },
   "file_extension": ".py",
   "mimetype": "text/x-python",
   "name": "python",
   "nbconvert_exporter": "python",
   "pygments_lexer": "ipython3",
   "version": "3.9.21"
  }
 },
 "nbformat": 4,
 "nbformat_minor": 5
}
