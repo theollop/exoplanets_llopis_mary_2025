{
 "cells": [
  {
   "cell_type": "code",
   "execution_count": 37,
   "id": "ee93e002",
   "metadata": {},
   "outputs": [
    {
     "name": "stdout",
     "output_type": "stream",
     "text": [
      "wavegrid\n",
      "template\n",
      "spectra_train\n",
      "spectra_val\n",
      "activity_train\n",
      "activity_val\n",
      "time_values_train\n",
      "time_values_val\n",
      "v_true_train\n",
      "v_true_val\n",
      "metadata\n",
      "  n_spectra_file: 3292\n",
      "  n_spectra: 240\n",
      "  n_spectra_train: 120\n",
      "  n_spectra_val: 120\n",
      "  n_pixels: 5000\n",
      "  wavemin: 5000.0\n",
      "  wavemax: 5050.0\n",
      "  downscaling_factor: 2\n",
      "  smooth_after_downscaling: True\n",
      "  smooth_kernel_size: 3\n",
      "  add_photon_noise: False\n",
      "  snr_target: None\n",
      "  noise_seed: None\n",
      "  original_pixels: 10000\n",
      "  downscaled_pixels: 5000\n",
      "  batch_size: 100\n",
      "  planets_periods: [60.0]\n",
      "  planets_amplitudes: [0.1]\n",
      "  planets_phases: [0.0]\n",
      "  activity_definition: activity = spectra_pre_noise_pre_planets - template\n",
      "spectra_no_activity_train\n",
      "spectra_no_activity_val\n"
     ]
    }
   ],
   "source": [
    "import numpy as np\n",
    "\n",
    "dset = np.load(\"/home/tliopis/Codes/exoplanets_llopis_mary_2025/data/npz_datasets/soapgpu_nst120_nsv120_5000-5050_dx2_sm3_p60_k0p1_phi0.npz\", allow_pickle=True)\n",
    "\n",
    "for key in dset.keys():\n",
    "    print(key)\n",
    "    if key == \"metadata\":\n",
    "        for key in dset[\"metadata\"].item().keys():\n",
    "            print(f\"  {key}: {dset['metadata'].item()[key]}\")"
   ]
  },
  {
   "cell_type": "code",
   "execution_count": 36,
   "id": "26b81285",
   "metadata": {},
   "outputs": [
    {
     "data": {
      "text/plain": [
       "dict_keys(['n_spectra_file', 'n_spectra', 'n_spectra_train', 'n_spectra_val', 'n_pixels', 'wavemin', 'wavemax', 'downscaling_factor', 'smooth_after_downscaling', 'smooth_kernel_size', 'add_photon_noise', 'snr_target', 'noise_seed', 'original_pixels', 'downscaled_pixels', 'batch_size', 'planets_periods', 'planets_amplitudes', 'planets_phases', 'activity_definition'])"
      ]
     },
     "execution_count": 36,
     "metadata": {},
     "output_type": "execute_result"
    }
   ],
   "source": [
    "dset[\"metadata\"].item().keys()"
   ]
  }
 ],
 "metadata": {
  "kernelspec": {
   "display_name": "venv",
   "language": "python",
   "name": "python3"
  },
  "language_info": {
   "codemirror_mode": {
    "name": "ipython",
    "version": 3
   },
   "file_extension": ".py",
   "mimetype": "text/x-python",
   "name": "python",
   "nbconvert_exporter": "python",
   "pygments_lexer": "ipython3",
   "version": "3.9.21"
  }
 },
 "nbformat": 4,
 "nbformat_minor": 5
}
