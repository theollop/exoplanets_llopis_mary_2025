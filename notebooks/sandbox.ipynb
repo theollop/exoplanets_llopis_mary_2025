{
 "cells": [
  {
   "cell_type": "code",
   "execution_count": null,
   "id": "e8c710ad",
   "metadata": {},
   "outputs": [
    {
     "name": "stderr",
     "output_type": "stream",
     "text": [
      "/home/tliopis/Codes/exoplanets_llopis_mary_2025/venv/lib/python3.9/site-packages/numba/core/decorators.py:246: RuntimeWarning: nopython is set for njit and is ignored\n",
      "  warnings.warn('nopython is set for njit and is ignored', RuntimeWarning)\n"
     ]
    }
   ],
   "source": [
    "import numpy as np\n",
    "import matplotlib.pyplot as plt\n",
    "from src.ccf import get_full_ccf_analysis\n",
    "\n",
    "raw_dset = np.load(\n",
    "    \"/home/tliopis/Codes/exoplanets_llopis_mary_2025/data/npz_datasets/soapgpu_nst120_nsv120_5000-5050_dx2_sm3_p60_k0p1_phi0.npz\", allow_pickle=True\n",
    ")\n",
    "\n",
    "raw_dset_normalized_v2 = np.load(\n",
    "    \"/home/tliopis/Codes/exoplanets_llopis_mary_2025/data/test.npz\", allow_pickle=True\n",
    ")\n",
    "\n",
    "wavegrid = raw_dset[\"wavegrid\"]\n",
    "template = raw_dset[\"template\"]\n",
    "template_normalized_v2 = raw_dset_normalized_v2[\"template\"]\n",
    "spectra_train = raw_dset[\"spectra_train\"]\n",
    "spectra_val = raw_dset[\"spectra_val\"]\n",
    "activity_train = raw_dset[\"activity_train\"]\n",
    "activity_val = raw_dset[\"activity_val\"]\n",
    "time_values_train = raw_dset[\"time_values_train\"]\n",
    "time_values_val = raw_dset[\"time_values_val\"]\n",
    "v_true_train = raw_dset[\"v_true_train\"]\n",
    "v_true_val = raw_dset[\"v_true_val\"]\n",
    "metadata = raw_dset[\"metadata\"]\n",
    "spectra_no_activity_train = raw_dset[\"spectra_no_activity_train\"]\n",
    "spectra_no_activity_val = raw_dset[\"spectra_no_activity_val\"]"
   ]
  },
  {
   "cell_type": "code",
   "execution_count": 29,
   "id": "8299f39a",
   "metadata": {},
   "outputs": [],
   "source": [
    "\n",
    "%matplotlib qt\n",
    "plt.figure(figsize=(18, 6))\n",
    "plt.plot(wavegrid, template, label=\"Template Spectrum\")\n",
    "plt.plot(wavegrid, spectra_train[10], label=\"Training Spectrum 1\")\n",
    "# plt.plot(wavegrid, activity_val[10], label=\"Validation Spectrum 1\")\n",
    "# plt.plot(wavegrid, activity_train[10], label=\"Validation Spectrum 1\")\n",
    "plt.grid()\n",
    "plt.xlabel(\"Wavelength (nm)\")\n",
    "plt.ylabel(\"Flux\")\n",
    "plt.legend()\n",
    "plt.title(\"Spectra Overview\")\n",
    "plt.show()"
   ]
  }
 ],
 "metadata": {
  "kernelspec": {
   "display_name": "venv",
   "language": "python",
   "name": "python3"
  },
  "language_info": {
   "codemirror_mode": {
    "name": "ipython",
    "version": 3
   },
   "file_extension": ".py",
   "mimetype": "text/x-python",
   "name": "python",
   "nbconvert_exporter": "python",
   "pygments_lexer": "ipython3",
   "version": "3.9.21"
  }
 },
 "nbformat": 4,
 "nbformat_minor": 5
}
