{
 "cells": [
  {
   "cell_type": "code",
   "execution_count": null,
   "id": "b6e0d0b4",
   "metadata": {},
   "outputs": [],
   "source": [
    "!git clone https://github.com/theollop/exoplanets_llopis_mary_2025\n",
    "\n",
    "from google.colab import drive\n",
    "\n",
    "drive.mount(\"/content/drive\")\n",
    "\n",
    "%cd /content/exoplanets_llopis_mary_2025/\n",
    "\n",
    "!pip install -e .\n",
    "!pip install --no-deps git+https://github.com/patrick-kidger/torchcubicspline.git"
   ]
  },
  {
   "cell_type": "code",
   "execution_count": null,
   "id": "77739341",
   "metadata": {},
   "outputs": [],
   "source": [
    "# from src.modeling.train import main\n",
    "\n",
    "# main(cfg_name=\"colab_config\")"
   ]
  },
  {
   "cell_type": "code",
   "execution_count": null,
   "id": "9fad0f33",
   "metadata": {},
   "outputs": [],
   "source": [
    "from src.modeling.predict import main\n",
    "\n",
    "main(\n",
    "    checkpoint_path=\"/content/drive/MyDrive/PFE/experiments/aestra_colab_experiment/models/aestra_colab_config_final.pth\",\n",
    "    data_root_dir=\"/content/drive/MyDrive/PFE/data\",\n",
    ")"
   ]
  }
 ],
 "metadata": {
  "language_info": {
   "name": "python"
  }
 },
 "nbformat": 4,
 "nbformat_minor": 5
}
